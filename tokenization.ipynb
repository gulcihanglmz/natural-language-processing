{
  "nbformat": 4,
  "nbformat_minor": 0,
  "metadata": {
    "colab": {
      "provenance": []
    },
    "kernelspec": {
      "name": "python3",
      "display_name": "Python 3"
    },
    "language_info": {
      "name": "python"
    }
  },
  "cells": [
    {
      "cell_type": "code",
      "execution_count": null,
      "metadata": {
        "id": "EW8MXaDo0xsD"
      },
      "outputs": [],
      "source": [
        "# natural language toolkit\n",
        "# (\"toolkit\" genellikle belirli bir görevi yerine getirmek için kullanabileceğiniz araçları içeren bir set olarak tanımlanır.)\n",
        "import nltk"
      ]
    },
    {
      "cell_type": "code",
      "source": [
        "# metni kelime ve cümle bazında tokenlara ayırır\n",
        "nltk.download(\"punkt_tab\")\n",
        "nltk.download(\"punkt\")"
      ],
      "metadata": {
        "colab": {
          "base_uri": "https://localhost:8080/"
        },
        "id": "SDIGIu9H5ou3",
        "outputId": "dd1d407d-35df-4033-8313-facd65deebb4"
      },
      "execution_count": null,
      "outputs": [
        {
          "output_type": "stream",
          "name": "stderr",
          "text": [
            "[nltk_data] Downloading package punkt_tab to /root/nltk_data...\n",
            "[nltk_data]   Package punkt_tab is already up-to-date!\n",
            "[nltk_data] Downloading package punkt to /root/nltk_data...\n",
            "[nltk_data]   Package punkt is already up-to-date!\n"
          ]
        },
        {
          "output_type": "execute_result",
          "data": {
            "text/plain": [
              "True"
            ]
          },
          "metadata": {},
          "execution_count": 10
        }
      ]
    },
    {
      "cell_type": "code",
      "source": [
        "text = \"Hello, this is an example sentence for tokenization. Let's break it into words and sentences.\""
      ],
      "metadata": {
        "id": "fWMohZil6D4r"
      },
      "execution_count": null,
      "outputs": []
    },
    {
      "cell_type": "code",
      "source": [
        "# kelime tokenizasyonu: word_tokenize: metni kelimelere ayırır, noktalamalar ve boşluklar ayrı token alınır\n",
        "tokens = nltk.word_tokenize(text)\n",
        "print(tokens)"
      ],
      "metadata": {
        "colab": {
          "base_uri": "https://localhost:8080/"
        },
        "id": "-CwGmp2O6ZaU",
        "outputId": "172c40c4-0e89-4bf6-892b-31838e73c32d"
      },
      "execution_count": null,
      "outputs": [
        {
          "output_type": "stream",
          "name": "stdout",
          "text": [
            "['Hello', ',', 'this', 'is', 'an', 'example', 'sentence', 'for', 'tokenization', '.', 'Let', \"'s\", 'break', 'it', 'into', 'words', 'and', 'sentences', '.']\n"
          ]
        }
      ]
    },
    {
      "cell_type": "code",
      "source": [
        "# cümle tokenizasyonu: sent_tokenize: metni cümlelere ayırır\n",
        "tokens = nltk.sent_tokenize(text)\n",
        "print(tokens)"
      ],
      "metadata": {
        "colab": {
          "base_uri": "https://localhost:8080/"
        },
        "id": "kqOUWl9w6yvE",
        "outputId": "00b79dc5-ac74-47c3-a844-9adaf14f58d0"
      },
      "execution_count": null,
      "outputs": [
        {
          "output_type": "stream",
          "name": "stdout",
          "text": [
            "['Hello, this is an example sentence for tokenization.', \"Let's break it into words and sentences.\"]\n"
          ]
        }
      ]
    },
    {
      "cell_type": "code",
      "source": [],
      "metadata": {
        "id": "5pSqJzS67JUf"
      },
      "execution_count": null,
      "outputs": []
    }
  ]
}