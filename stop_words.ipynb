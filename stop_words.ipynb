{
  "nbformat": 4,
  "nbformat_minor": 0,
  "metadata": {
    "colab": {
      "provenance": []
    },
    "kernelspec": {
      "name": "python3",
      "display_name": "Python 3"
    },
    "language_info": {
      "name": "python"
    }
  },
  "cells": [
    {
      "cell_type": "code",
      "source": [
        "import nltk"
      ],
      "metadata": {
        "id": "kT5R8t1tzKQc"
      },
      "execution_count": 3,
      "outputs": []
    },
    {
      "cell_type": "code",
      "source": [
        "from nltk.corpus import stopwords"
      ],
      "metadata": {
        "id": "0oklRbC0zdij"
      },
      "execution_count": 4,
      "outputs": []
    },
    {
      "cell_type": "code",
      "source": [
        "nltk.download('stopwords')\n",
        "# farklı dillerde en çok kullanılan stop words içeren dataset"
      ],
      "metadata": {
        "colab": {
          "base_uri": "https://localhost:8080/"
        },
        "id": "Zqi7-HAgzlJ7",
        "outputId": "06cf2137-ec18-4b99-c1ec-2a5ec8171fe9"
      },
      "execution_count": 5,
      "outputs": [
        {
          "output_type": "stream",
          "name": "stderr",
          "text": [
            "[nltk_data] Downloading package stopwords to /root/nltk_data...\n",
            "[nltk_data]   Unzipping corpora/stopwords.zip.\n"
          ]
        },
        {
          "output_type": "execute_result",
          "data": {
            "text/plain": [
              "True"
            ]
          },
          "metadata": {},
          "execution_count": 5
        }
      ]
    },
    {
      "cell_type": "markdown",
      "source": [
        "**English stop words analysis: the, is, in, at, for, and, to, on, of, a, an, with** (nltk)"
      ],
      "metadata": {
        "id": "6NL06L0Vy2ji"
      }
    },
    {
      "cell_type": "code",
      "execution_count": 6,
      "metadata": {
        "colab": {
          "base_uri": "https://localhost:8080/"
        },
        "collapsed": true,
        "id": "v34GtZPAyPt8",
        "outputId": "460723d9-2482-4099-f9d4-55cef9d7ab27"
      },
      "outputs": [
        {
          "output_type": "execute_result",
          "data": {
            "text/plain": [
              "{'a',\n",
              " 'about',\n",
              " 'above',\n",
              " 'after',\n",
              " 'again',\n",
              " 'against',\n",
              " 'ain',\n",
              " 'all',\n",
              " 'am',\n",
              " 'an',\n",
              " 'and',\n",
              " 'any',\n",
              " 'are',\n",
              " 'aren',\n",
              " \"aren't\",\n",
              " 'as',\n",
              " 'at',\n",
              " 'be',\n",
              " 'because',\n",
              " 'been',\n",
              " 'before',\n",
              " 'being',\n",
              " 'below',\n",
              " 'between',\n",
              " 'both',\n",
              " 'but',\n",
              " 'by',\n",
              " 'can',\n",
              " 'couldn',\n",
              " \"couldn't\",\n",
              " 'd',\n",
              " 'did',\n",
              " 'didn',\n",
              " \"didn't\",\n",
              " 'do',\n",
              " 'does',\n",
              " 'doesn',\n",
              " \"doesn't\",\n",
              " 'doing',\n",
              " 'don',\n",
              " \"don't\",\n",
              " 'down',\n",
              " 'during',\n",
              " 'each',\n",
              " 'few',\n",
              " 'for',\n",
              " 'from',\n",
              " 'further',\n",
              " 'had',\n",
              " 'hadn',\n",
              " \"hadn't\",\n",
              " 'has',\n",
              " 'hasn',\n",
              " \"hasn't\",\n",
              " 'have',\n",
              " 'haven',\n",
              " \"haven't\",\n",
              " 'having',\n",
              " 'he',\n",
              " 'her',\n",
              " 'here',\n",
              " 'hers',\n",
              " 'herself',\n",
              " 'him',\n",
              " 'himself',\n",
              " 'his',\n",
              " 'how',\n",
              " 'i',\n",
              " 'if',\n",
              " 'in',\n",
              " 'into',\n",
              " 'is',\n",
              " 'isn',\n",
              " \"isn't\",\n",
              " 'it',\n",
              " \"it's\",\n",
              " 'its',\n",
              " 'itself',\n",
              " 'just',\n",
              " 'll',\n",
              " 'm',\n",
              " 'ma',\n",
              " 'me',\n",
              " 'mightn',\n",
              " \"mightn't\",\n",
              " 'more',\n",
              " 'most',\n",
              " 'mustn',\n",
              " \"mustn't\",\n",
              " 'my',\n",
              " 'myself',\n",
              " 'needn',\n",
              " \"needn't\",\n",
              " 'no',\n",
              " 'nor',\n",
              " 'not',\n",
              " 'now',\n",
              " 'o',\n",
              " 'of',\n",
              " 'off',\n",
              " 'on',\n",
              " 'once',\n",
              " 'only',\n",
              " 'or',\n",
              " 'other',\n",
              " 'our',\n",
              " 'ours',\n",
              " 'ourselves',\n",
              " 'out',\n",
              " 'over',\n",
              " 'own',\n",
              " 're',\n",
              " 's',\n",
              " 'same',\n",
              " 'shan',\n",
              " \"shan't\",\n",
              " 'she',\n",
              " \"she's\",\n",
              " 'should',\n",
              " \"should've\",\n",
              " 'shouldn',\n",
              " \"shouldn't\",\n",
              " 'so',\n",
              " 'some',\n",
              " 'such',\n",
              " 't',\n",
              " 'than',\n",
              " 'that',\n",
              " \"that'll\",\n",
              " 'the',\n",
              " 'their',\n",
              " 'theirs',\n",
              " 'them',\n",
              " 'themselves',\n",
              " 'then',\n",
              " 'there',\n",
              " 'these',\n",
              " 'they',\n",
              " 'this',\n",
              " 'those',\n",
              " 'through',\n",
              " 'to',\n",
              " 'too',\n",
              " 'under',\n",
              " 'until',\n",
              " 'up',\n",
              " 've',\n",
              " 'very',\n",
              " 'was',\n",
              " 'wasn',\n",
              " \"wasn't\",\n",
              " 'we',\n",
              " 'were',\n",
              " 'weren',\n",
              " \"weren't\",\n",
              " 'what',\n",
              " 'when',\n",
              " 'where',\n",
              " 'which',\n",
              " 'while',\n",
              " 'who',\n",
              " 'whom',\n",
              " 'why',\n",
              " 'will',\n",
              " 'with',\n",
              " 'won',\n",
              " \"won't\",\n",
              " 'wouldn',\n",
              " \"wouldn't\",\n",
              " 'y',\n",
              " 'you',\n",
              " \"you'd\",\n",
              " \"you'll\",\n",
              " \"you're\",\n",
              " \"you've\",\n",
              " 'your',\n",
              " 'yours',\n",
              " 'yourself',\n",
              " 'yourselves'}"
            ]
          },
          "metadata": {},
          "execution_count": 6
        }
      ],
      "source": [
        "stop_words_eng = set(stopwords.words('english'))\n",
        "stop_words_eng"
      ]
    },
    {
      "cell_type": "code",
      "source": [
        "text = \"There are some example of handling stop words from some texts\""
      ],
      "metadata": {
        "id": "UpMZyZxUzH9f"
      },
      "execution_count": 7,
      "outputs": []
    },
    {
      "cell_type": "code",
      "source": [
        "# token işlemi\n",
        "text_list = text.split()\n",
        "text_list"
      ],
      "metadata": {
        "colab": {
          "base_uri": "https://localhost:8080/"
        },
        "id": "DcIyXFqBzH7I",
        "outputId": "9b08b1a1-aa26-4df4-d87d-58d6ebfd8c82"
      },
      "execution_count": 8,
      "outputs": [
        {
          "output_type": "execute_result",
          "data": {
            "text/plain": [
              "['There',\n",
              " 'are',\n",
              " 'some',\n",
              " 'example',\n",
              " 'of',\n",
              " 'handling',\n",
              " 'stop',\n",
              " 'words',\n",
              " 'from',\n",
              " 'some',\n",
              " 'texts']"
            ]
          },
          "metadata": {},
          "execution_count": 8
        }
      ]
    },
    {
      "cell_type": "code",
      "source": [
        "# küçük harfe çevir, stopwords listesinde var mı kontrol et yoksa o kelimeyi filtrelenmiş listeye ekle\n",
        "filtered_words = [word for word in text_list if word.lower() not in stop_words_eng]"
      ],
      "metadata": {
        "id": "zm4oFLow0qhz"
      },
      "execution_count": 13,
      "outputs": []
    },
    {
      "cell_type": "code",
      "source": [
        "print(f\"filtered_words: {filtered_words}\")"
      ],
      "metadata": {
        "colab": {
          "base_uri": "https://localhost:8080/"
        },
        "id": "Bo6906yeJxp3",
        "outputId": "a087738e-5ee2-4296-a46b-c6ae297f4c82"
      },
      "execution_count": 14,
      "outputs": [
        {
          "output_type": "stream",
          "name": "stdout",
          "text": [
            "filtered_words: ['example', 'handling', 'stop', 'words', 'texts']\n"
          ]
        }
      ]
    },
    {
      "cell_type": "markdown",
      "source": [
        "**Türkçe stop words analysis: ve, de, da, için, ile, bu, bir, o, her, ki, ne, mı** (nltk)"
      ],
      "metadata": {
        "id": "4nK7LdeSy-3H"
      }
    },
    {
      "cell_type": "code",
      "source": [
        "stop_words_tr = set(stopwords.words(\"turkish\"))\n",
        "stop_words_tr"
      ],
      "metadata": {
        "id": "6Hmf8m-dyi4M",
        "colab": {
          "base_uri": "https://localhost:8080/"
        },
        "collapsed": true,
        "outputId": "e90145ef-b100-4112-e11b-8b5360e8f2b7"
      },
      "execution_count": 15,
      "outputs": [
        {
          "output_type": "execute_result",
          "data": {
            "text/plain": [
              "{'acaba',\n",
              " 'ama',\n",
              " 'aslında',\n",
              " 'az',\n",
              " 'bazı',\n",
              " 'belki',\n",
              " 'biri',\n",
              " 'birkaç',\n",
              " 'birşey',\n",
              " 'biz',\n",
              " 'bu',\n",
              " 'da',\n",
              " 'daha',\n",
              " 'de',\n",
              " 'defa',\n",
              " 'diye',\n",
              " 'en',\n",
              " 'eğer',\n",
              " 'gibi',\n",
              " 'hem',\n",
              " 'hep',\n",
              " 'hepsi',\n",
              " 'her',\n",
              " 'hiç',\n",
              " 'ile',\n",
              " 'ise',\n",
              " 'için',\n",
              " 'kez',\n",
              " 'ki',\n",
              " 'kim',\n",
              " 'mu',\n",
              " 'mü',\n",
              " 'mı',\n",
              " 'nasıl',\n",
              " 'ne',\n",
              " 'neden',\n",
              " 'nerde',\n",
              " 'nerede',\n",
              " 'nereye',\n",
              " 'niye',\n",
              " 'niçin',\n",
              " 'o',\n",
              " 'sanki',\n",
              " 'siz',\n",
              " 'tüm',\n",
              " 've',\n",
              " 'veya',\n",
              " 'ya',\n",
              " 'yani',\n",
              " 'çok',\n",
              " 'çünkü',\n",
              " 'şey',\n",
              " 'şu'}"
            ]
          },
          "metadata": {},
          "execution_count": 15
        }
      ]
    },
    {
      "cell_type": "code",
      "source": [
        "text = \"Merhaba bu çok güzel bir deneme yazısı mı\"\n",
        "# bu işlemden önce text'te herangi bir noktalama işareti bırakılmamalı"
      ],
      "metadata": {
        "id": "Bp-4ebBjLQLl"
      },
      "execution_count": 33,
      "outputs": []
    },
    {
      "cell_type": "code",
      "source": [
        "text_list = text.split()\n",
        "text_list"
      ],
      "metadata": {
        "colab": {
          "base_uri": "https://localhost:8080/"
        },
        "id": "1ltvE4-iLQID",
        "outputId": "f7fdf56e-b294-49a0-e1ca-a379d5247c70"
      },
      "execution_count": 31,
      "outputs": [
        {
          "output_type": "execute_result",
          "data": {
            "text/plain": [
              "['Merhaba', 'bu', 'çok', 'güzel', 'bir', 'deneme', 'yazısı', 'mı.']"
            ]
          },
          "metadata": {},
          "execution_count": 31
        }
      ]
    },
    {
      "cell_type": "code",
      "source": [
        "filtered_words = [word for word in text_list if word.lower() not in stop_words_tr]\n",
        "print(f\"filtered_words: {filtered_words}\")"
      ],
      "metadata": {
        "colab": {
          "base_uri": "https://localhost:8080/"
        },
        "id": "EH_0IYlELQFy",
        "outputId": "2e083ffa-966b-430e-e840-851184a00204"
      },
      "execution_count": 32,
      "outputs": [
        {
          "output_type": "stream",
          "name": "stdout",
          "text": [
            "filtered_words: ['Merhaba', 'güzel', 'bir', 'deneme', 'yazısı', 'mı.']\n"
          ]
        }
      ]
    },
    {
      "cell_type": "markdown",
      "source": [
        "**Kütüphanesis stop words filtrelenmesi**"
      ],
      "metadata": {
        "id": "JEC9bjRDzRkm"
      }
    },
    {
      "cell_type": "code",
      "source": [
        "# stop words listesi oluştur\n",
        "tr_stopwords = [\"için\", \"bu\", \"ile\", \"mu\", \"mi\", \"mı\", \"bir\", \"merhaba\"]"
      ],
      "metadata": {
        "id": "PupcMZcozRPa"
      },
      "execution_count": 48,
      "outputs": []
    },
    {
      "cell_type": "code",
      "source": [
        "text = \"Bu bir deneme yazısı mı Amacımız listedeki Bu özel karakterleri elemek\""
      ],
      "metadata": {
        "id": "sKf9-k7uNJK7"
      },
      "execution_count": 53,
      "outputs": []
    },
    {
      "cell_type": "code",
      "source": [
        "text_list = text.split()\n",
        "text_list"
      ],
      "metadata": {
        "colab": {
          "base_uri": "https://localhost:8080/"
        },
        "id": "ba8zhJMgNUvn",
        "outputId": "5d38fb6b-8411-467b-dba6-073596757ad9"
      },
      "execution_count": 54,
      "outputs": [
        {
          "output_type": "execute_result",
          "data": {
            "text/plain": [
              "['Bu',\n",
              " 'bir',\n",
              " 'deneme',\n",
              " 'yazısı',\n",
              " 'mı',\n",
              " 'Amacımız',\n",
              " 'listedeki',\n",
              " 'Bu',\n",
              " 'özel',\n",
              " 'karakterleri',\n",
              " 'elemek']"
            ]
          },
          "metadata": {},
          "execution_count": 54
        }
      ]
    },
    {
      "cell_type": "code",
      "source": [
        "filtered_words = [word for word in text_list if word.lower() not in tr_stopwords]\n",
        "print(f\"filtered_words: {filtered_words}\")"
      ],
      "metadata": {
        "colab": {
          "base_uri": "https://localhost:8080/"
        },
        "id": "SfJy_67ONaEQ",
        "outputId": "8b79e558-52b5-4ceb-b567-b2e6040fd637"
      },
      "execution_count": 55,
      "outputs": [
        {
          "output_type": "stream",
          "name": "stdout",
          "text": [
            "filtered_words: ['deneme', 'yazısı', 'Amacımız', 'listedeki', 'özel', 'karakterleri', 'elemek']\n"
          ]
        }
      ]
    },
    {
      "cell_type": "code",
      "source": [
        "filtered_stopwords = [word for word in text_list if word.lower() in tr_stopwords]\n",
        "print(f\"filtered_stopwords: {filtered_stopwords}\")"
      ],
      "metadata": {
        "colab": {
          "base_uri": "https://localhost:8080/"
        },
        "id": "86A-imKFNi6Z",
        "outputId": "0aff70fb-a448-43f0-a91e-cb9543533657"
      },
      "execution_count": 56,
      "outputs": [
        {
          "output_type": "stream",
          "name": "stdout",
          "text": [
            "filtered_stopwords: ['Bu', 'bir', 'mı', 'Bu']\n"
          ]
        }
      ]
    },
    {
      "cell_type": "code",
      "source": [
        "filtered_stopwords = [word.lower() for word in text_list if word.lower() in tr_stopwords]\n",
        "print(f\"filtered_stopwords: {filtered_stopwords}\")"
      ],
      "metadata": {
        "colab": {
          "base_uri": "https://localhost:8080/"
        },
        "id": "CMYvRw0_OiHu",
        "outputId": "12970a78-78c7-474d-d69a-bca3bf6f1d42"
      },
      "execution_count": 57,
      "outputs": [
        {
          "output_type": "stream",
          "name": "stdout",
          "text": [
            "filtered_stopwords: ['bu', 'bir', 'mı', 'bu']\n"
          ]
        }
      ]
    },
    {
      "cell_type": "code",
      "source": [
        "filtered_stopwords = set([word.lower() for word in text_list if word.lower() in tr_stopwords])\n",
        "print(f\"filtered_stopwords: {filtered_stopwords}\")"
      ],
      "metadata": {
        "colab": {
          "base_uri": "https://localhost:8080/"
        },
        "id": "Zxr2sIueO1U5",
        "outputId": "ee7ee1ee-b0f4-49c3-b226-9773af6d409c"
      },
      "execution_count": 58,
      "outputs": [
        {
          "output_type": "stream",
          "name": "stdout",
          "text": [
            "filtered_stopwords: {'mı', 'bir', 'bu'}\n"
          ]
        }
      ]
    },
    {
      "cell_type": "code",
      "source": [],
      "metadata": {
        "id": "YRpOGtS7PB1V"
      },
      "execution_count": null,
      "outputs": []
    }
  ]
}