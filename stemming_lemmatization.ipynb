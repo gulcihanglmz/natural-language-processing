{
  "nbformat": 4,
  "nbformat_minor": 0,
  "metadata": {
    "colab": {
      "provenance": []
    },
    "kernelspec": {
      "name": "python3",
      "display_name": "Python 3"
    },
    "language_info": {
      "name": "python"
    }
  },
  "cells": [
    {
      "cell_type": "markdown",
      "source": [
        "**Stemming(kök bulma): suffix'lerin çıkarılıp kelimenin kök halini alma işlemidir.(anlamlı veya anlamsız en küçük yapı taşı)**\n",
        "\n",
        "**Lemmatization(gövdeleme): kelimeleri, sözlükteki temel formlarına(lemma) dönüştürme işlemidir.(anlamlı en küçük yapı taşı)**\n",
        "\n",
        "*Stemming işlemi sadece ekleri keserek rastgele bir kök bırakırken,\n",
        "Lemmatization, kelimenin sözlükteki gerçek kök halini bulur.*\n",
        "\n",
        "\n",
        "\n"
      ],
      "metadata": {
        "id": "V3-aPDeMpO67"
      }
    },
    {
      "cell_type": "code",
      "execution_count": 1,
      "metadata": {
        "id": "lQpr7jvgZSz9"
      },
      "outputs": [],
      "source": [
        "# NLTK (Natural Language Toolkit)\n",
        "import nltk"
      ]
    },
    {
      "cell_type": "markdown",
      "source": [
        "1️⃣**Stemming**"
      ],
      "metadata": {
        "id": "kHokwvAWs8Os"
      }
    },
    {
      "cell_type": "code",
      "source": [
        "# stemming için fonksiyon\n",
        "from nltk.stem import PorterStemmer"
      ],
      "metadata": {
        "id": "BfNMrrxEqtHx"
      },
      "execution_count": 3,
      "outputs": []
    },
    {
      "cell_type": "code",
      "source": [
        "# porter stemmer nesnesini oluştur\n",
        "ps = PorterStemmer()"
      ],
      "metadata": {
        "id": "HkQ5BSo0rAOQ"
      },
      "execution_count": 5,
      "outputs": []
    },
    {
      "cell_type": "code",
      "source": [
        "words = [\"running\", \"flies\", \"easily\", \"denied\", \"better\", \"runs\", \"go\", \"went\"]"
      ],
      "metadata": {
        "id": "3ttRONxLrHan"
      },
      "execution_count": 7,
      "outputs": []
    },
    {
      "cell_type": "code",
      "source": [
        "# kelimelerin stem'lerini buluyoruz, bunun için portersteemmerın stem fonksiyonunu kullanıyoruz\n",
        "stems = [ps.stem(w) for w in words]\n",
        "print(f\"stems: {stems}\")"
      ],
      "metadata": {
        "colab": {
          "base_uri": "https://localhost:8080/"
        },
        "id": "CySnaZT8ryh1",
        "outputId": "95013891-4d18-4862-d3df-a8f94c577cf7"
      },
      "execution_count": 12,
      "outputs": [
        {
          "output_type": "stream",
          "name": "stdout",
          "text": [
            "stems: ['run', 'fli', 'easili', 'deni', 'better', 'run', 'go', 'went']\n"
          ]
        }
      ]
    },
    {
      "cell_type": "markdown",
      "source": [
        "2️⃣ **Lemmatization** (kökleştirme, gövdeleme)"
      ],
      "metadata": {
        "id": "etXu21iTtCzx"
      }
    },
    {
      "cell_type": "code",
      "source": [
        "# wordnet: lemmatization işlemi için gerekli veritabanı\n",
        "# WordNet veri setini indir\n",
        "nltk.download(\"wordnet\")"
      ],
      "metadata": {
        "colab": {
          "base_uri": "https://localhost:8080/"
        },
        "id": "U28kKo63sknx",
        "outputId": "fc370e01-3c1c-40fb-f627-a60bf2389e58"
      },
      "execution_count": 13,
      "outputs": [
        {
          "output_type": "stream",
          "name": "stderr",
          "text": [
            "[nltk_data] Downloading package wordnet to /root/nltk_data...\n",
            "[nltk_data]   Package wordnet is already up-to-date!\n"
          ]
        },
        {
          "output_type": "execute_result",
          "data": {
            "text/plain": [
              "True"
            ]
          },
          "metadata": {},
          "execution_count": 13
        }
      ]
    },
    {
      "cell_type": "code",
      "source": [
        "from nltk.stem import WordNetLemmatizer"
      ],
      "metadata": {
        "id": "FldBDeq_tcUy"
      },
      "execution_count": 14,
      "outputs": []
    },
    {
      "cell_type": "code",
      "source": [
        "# lemmatizer nesnesi oluştur\n",
        "lemmatizer = WordNetLemmatizer()"
      ],
      "metadata": {
        "id": "D7bytjlOtgl_"
      },
      "execution_count": 15,
      "outputs": []
    },
    {
      "cell_type": "code",
      "source": [
        "words = [\"running\", \"flies\", \"easily\", \"denied\", \"better\", \"runs\", \"go\", \"went\"]"
      ],
      "metadata": {
        "id": "2Wfk_t59t7_v"
      },
      "execution_count": 16,
      "outputs": []
    },
    {
      "cell_type": "code",
      "source": [
        "# lemmatizer içerisindeki lemmatize fonksiyonunu kullanıyoruz\n",
        "# for verb\n",
        "lemmas = [lemmatizer.lemmatize(w,pos=\"v\") for w in words]\n",
        "print(f\"lemmas: {lemmas}\")"
      ],
      "metadata": {
        "colab": {
          "base_uri": "https://localhost:8080/"
        },
        "id": "dSdrlL3xuAEO",
        "outputId": "2428d75a-89ae-47dc-e12d-cc4dc0690702"
      },
      "execution_count": 18,
      "outputs": [
        {
          "output_type": "stream",
          "name": "stdout",
          "text": [
            "lemmas: ['run', 'fly', 'easily', 'deny', 'better', 'run', 'go', 'go']\n"
          ]
        }
      ]
    },
    {
      "cell_type": "code",
      "source": [
        "# for noun\n",
        "lemmas = [lemmatizer.lemmatize(w,pos=\"n\") for w in words]\n",
        "print(f\"lemmas: {lemmas}\")"
      ],
      "metadata": {
        "colab": {
          "base_uri": "https://localhost:8080/"
        },
        "id": "Ucp2uISIug9r",
        "outputId": "8e6b168b-2382-4334-f7fc-5bd1eb7171b9"
      },
      "execution_count": 19,
      "outputs": [
        {
          "output_type": "stream",
          "name": "stdout",
          "text": [
            "lemmas: ['running', 'fly', 'easily', 'denied', 'better', 'run', 'go', 'went']\n"
          ]
        }
      ]
    },
    {
      "cell_type": "code",
      "source": [
        "# for adjective\n",
        "lemmas = [lemmatizer.lemmatize(w,pos=\"a\") for w in words]\n",
        "print(f\"lemmas: {lemmas}\")"
      ],
      "metadata": {
        "colab": {
          "base_uri": "https://localhost:8080/"
        },
        "id": "7e44zSG8vupA",
        "outputId": "2d06790e-3593-4087-9ad6-557693defb1c"
      },
      "execution_count": 20,
      "outputs": [
        {
          "output_type": "stream",
          "name": "stdout",
          "text": [
            "lemmas: ['running', 'flies', 'easily', 'denied', 'good', 'runs', 'go', 'went']\n"
          ]
        }
      ]
    },
    {
      "cell_type": "code",
      "source": [
        "# for adverb\n",
        "lemmas = [lemmatizer.lemmatize(w,pos=\"r\") for w in words]\n",
        "print(f\"lemmas: {lemmas}\")"
      ],
      "metadata": {
        "colab": {
          "base_uri": "https://localhost:8080/"
        },
        "id": "XEMsiGujvyAG",
        "outputId": "54379770-1b0c-4841-ef5c-2e8edbddc103"
      },
      "execution_count": 21,
      "outputs": [
        {
          "output_type": "stream",
          "name": "stdout",
          "text": [
            "lemmas: ['running', 'flies', 'easily', 'denied', 'well', 'runs', 'go', 'went']\n"
          ]
        }
      ]
    },
    {
      "cell_type": "code",
      "source": [],
      "metadata": {
        "id": "ZaLnyvdgwLr3"
      },
      "execution_count": null,
      "outputs": []
    }
  ]
}