{
  "nbformat": 4,
  "nbformat_minor": 0,
  "metadata": {
    "colab": {
      "provenance": [],
      "authorship_tag": "ABX9TyNu+IMz+JV4lF6t90P5Q43k",
      "include_colab_link": true
    },
    "kernelspec": {
      "name": "python3",
      "display_name": "Python 3"
    },
    "language_info": {
      "name": "python"
    }
  },
  "cells": [
    {
      "cell_type": "markdown",
      "metadata": {
        "id": "view-in-github",
        "colab_type": "text"
      },
      "source": [
        "<a href=\"https://colab.research.google.com/github/gulcihanglmz/natural-language-processing/blob/main/hidden_markov_models.ipynb\" target=\"_parent\"><img src=\"https://colab.research.google.com/assets/colab-badge.svg\" alt=\"Open In Colab\"/></a>"
      ]
    },
    {
      "cell_type": "code",
      "source": [
        "'''\n",
        "Gizli Markov Modeli (HMM), gözlemlediğimiz şeylerin arkasında aslında göremediğimiz (gizli)\n",
        "bazı durumlar olduğunu ve bu durumların birbirine belli olasılıklarla geçtiğini varsayan bir modeldir.\n",
        "\n",
        "Gözlemlediğimiz şeylerin arkasında gizli bir yapı (durumlar) vardır. Bu yapılar hem birbirine geçiş yapar hem de gözlemleri üretir.\n",
        "\n",
        "Diyelim ki senin elinde sadece hava durumu raporlarını gözlemleyebiliyorsun:\n",
        "\n",
        "“Bugün güneşli.”\n",
        "\n",
        "“Bugün yağmurlu.”\n",
        "\n",
        "“Bugün kapalı.”\n",
        "\n",
        "Ama aslında bu hava durumu, göremediğin hava sistemleri (mesela \"yüksek basınç\", \"alçak basınç\") tarafından belirleniyor.\n",
        "İşte bu göremediğimiz hava sistemleri gizli durumlar olur.\n",
        "Ve her bir sistem:\n",
        "Belirli olasılıkla başka bir sisteme geçiyor.\n",
        "Ve kendine ait bir hava durumu üretiyor.\n",
        "\n",
        "\n",
        "Usage:\n",
        "· Speech recognition\n",
        "· Language modeling\n",
        "· Part-of-Speech Tagging\n",
        "Advantages\n",
        "· Context Modeling\n",
        "· Efficient Algorithms\n",
        "Disadvantages\n",
        "· Simplifying Assumptions\n",
        "· Difficulty of Training\n",
        "\n",
        "'''"
      ],
      "metadata": {
        "id": "34KiskIHGxZy"
      },
      "execution_count": null,
      "outputs": []
    },
    {
      "cell_type": "code",
      "execution_count": null,
      "metadata": {
        "id": "FvYswmcmz59R"
      },
      "outputs": [],
      "source": [
        "# POS : part of speach (kelimelerin uygun sözcük türünü bulma çalışması)"
      ]
    },
    {
      "cell_type": "code",
      "source": [
        "import nltk\n",
        "from nltk.tag import hmm"
      ],
      "metadata": {
        "id": "1zgYWisJBBge"
      },
      "execution_count": null,
      "outputs": []
    },
    {
      "cell_type": "code",
      "source": [
        "# Örnek eğitim verisi\n",
        "train_data = [\n",
        "    (\"Bugün hava çok güzel.\", \"JJ NN VB JJ NN\"),\n",
        "    (\"Yağmur yağıyor.\", \"NN VB\"),\n",
        "    (\"Güneşli bir gün.\", \"JJ DT NN\") ,\n",
        "]"
      ],
      "metadata": {
        "id": "ghv59T9tB3gD"
      },
      "execution_count": null,
      "outputs": []
    },
    {
      "cell_type": "code",
      "source": [
        "# Veriyi tokenleştirme (Boşluklarla ayrılan kelimeleri ayırma) ve etiketleme\n",
        "# Bu adımda, her cümlenin kelimeleri ile ilgili POS etiketlerini eşleştireceğiz.\n",
        "train_data_tagged = []\n",
        "for sentence, tags in train_data:\n",
        "    tokens = sentence.split()\n",
        "    if len(tokens) != len(tags.split()):\n",
        "        print(f\"Hata: Cümle ile etiket sayıları uyuşmuyor: {sentence} - {tags}\")\n",
        "        continue  # Cümle ve etiket uzunlukları uyuşmuyorsa bu cümleyi atla.\n",
        "\n",
        "    train_data_tagged.append(list(zip(tokens, tags.split())))\n",
        "\n",
        "# HMM modeli oluşturma\n",
        "trainer = hmm.HiddenMarkovModelTrainer()\n",
        "tagger = trainer.train_supervised(train_data_tagged)\n",
        "\n",
        "# Modelin test edilmesi (isteğe bağlı)\n",
        "test_sentence = \"Hava yarın güzel olacak\"\n",
        "test_tokens = test_sentence.split()\n",
        "tagged_sentence = tagger.tag(test_tokens)\n",
        "tagged_sentence"
      ],
      "metadata": {
        "colab": {
          "base_uri": "https://localhost:8080/"
        },
        "id": "EkJ_DrmGCA8l",
        "outputId": "3b45ce22-58a7-42a3-9913-4c80bb5cc15c"
      },
      "execution_count": null,
      "outputs": [
        {
          "output_type": "stream",
          "name": "stdout",
          "text": [
            "Hata: Cümle ile etiket sayıları uyuşmuyor: Bugün hava çok güzel. - JJ NN VB JJ NN\n"
          ]
        },
        {
          "output_type": "stream",
          "name": "stderr",
          "text": [
            "/usr/local/lib/python3.11/dist-packages/nltk/tag/hmm.py:333: RuntimeWarning: overflow encountered in cast\n",
            "  X[i, j] = self._transitions[si].logprob(self._states[j])\n",
            "/usr/local/lib/python3.11/dist-packages/nltk/tag/hmm.py:335: RuntimeWarning: overflow encountered in cast\n",
            "  O[i, k] = self._output_logprob(si, self._symbols[k])\n",
            "/usr/local/lib/python3.11/dist-packages/nltk/tag/hmm.py:331: RuntimeWarning: overflow encountered in cast\n",
            "  P[i] = self._priors.logprob(si)\n",
            "/usr/local/lib/python3.11/dist-packages/nltk/tag/hmm.py:363: RuntimeWarning: overflow encountered in cast\n",
            "  O[i, k] = self._output_logprob(si, self._symbols[k])\n"
          ]
        },
        {
          "output_type": "execute_result",
          "data": {
            "text/plain": [
              "[('Hava', 'NN'), ('yarın', 'NN'), ('güzel', 'NN'), ('olacak', 'NN')]"
            ]
          },
          "metadata": {},
          "execution_count": 5
        }
      ]
    },
    {
      "cell_type": "markdown",
      "source": [
        "# HMM with conll2000 dataset"
      ],
      "metadata": {
        "id": "pDY0_6RZRKqr"
      }
    },
    {
      "cell_type": "code",
      "source": [
        "import nltk\n",
        "from nltk.tag import hmm\n",
        "from nltk.corpus import conll2000 # nltk lib'den bir dataset"
      ],
      "metadata": {
        "id": "EUVfpR53C7uJ"
      },
      "execution_count": null,
      "outputs": []
    },
    {
      "cell_type": "code",
      "source": [
        "nltk.download('conll2000')"
      ],
      "metadata": {
        "id": "Cpp3n0PlRYOo",
        "colab": {
          "base_uri": "https://localhost:8080/"
        },
        "outputId": "d8b554ca-8f18-4e3a-f05a-f398ac65fc75"
      },
      "execution_count": null,
      "outputs": [
        {
          "output_type": "stream",
          "name": "stderr",
          "text": [
            "[nltk_data] Downloading package conll2000 to /root/nltk_data...\n",
            "[nltk_data]   Unzipping corpora/conll2000.zip.\n"
          ]
        },
        {
          "output_type": "execute_result",
          "data": {
            "text/plain": [
              "True"
            ]
          },
          "metadata": {},
          "execution_count": 7
        }
      ]
    },
    {
      "cell_type": "code",
      "source": [
        "train_data = conll2000.tagged_sents('train.txt')\n",
        "test_data = conll2000.tagged_sents('test.txt')"
      ],
      "metadata": {
        "id": "9nKKeW9sK2kN"
      },
      "execution_count": null,
      "outputs": []
    },
    {
      "cell_type": "code",
      "source": [
        "train_data[:1]"
      ],
      "metadata": {
        "colab": {
          "base_uri": "https://localhost:8080/"
        },
        "id": "jxMqBhTuK5no",
        "outputId": "1483d199-960d-4635-e411-7dc67c96709f"
      },
      "execution_count": null,
      "outputs": [
        {
          "output_type": "execute_result",
          "data": {
            "text/plain": [
              "[[('Confidence', 'NN'), ('in', 'IN'), ('the', 'DT'), ('pound', 'NN'), ('is', 'VBZ'), ('widely', 'RB'), ('expected', 'VBN'), ('to', 'TO'), ('take', 'VB'), ('another', 'DT'), ('sharp', 'JJ'), ('dive', 'NN'), ('if', 'IN'), ('trade', 'NN'), ('figures', 'NNS'), ('for', 'IN'), ('September', 'NNP'), (',', ','), ('due', 'JJ'), ('for', 'IN'), ('release', 'NN'), ('tomorrow', 'NN'), (',', ','), ('fail', 'VB'), ('to', 'TO'), ('show', 'VB'), ('a', 'DT'), ('substantial', 'JJ'), ('improvement', 'NN'), ('from', 'IN'), ('July', 'NNP'), ('and', 'CC'), ('August', 'NNP'), (\"'s\", 'POS'), ('near-record', 'JJ'), ('deficits', 'NNS'), ('.', '.')]]"
            ]
          },
          "metadata": {},
          "execution_count": 10
        }
      ]
    },
    {
      "cell_type": "code",
      "source": [
        "# train hmm\n",
        "trainer = hmm.HiddenMarkovModelTrainer()\n",
        "hmm_tagger = trainer.train(train_data)"
      ],
      "metadata": {
        "id": "kICAwQaoLESV"
      },
      "execution_count": null,
      "outputs": []
    },
    {
      "cell_type": "code",
      "source": [
        "# new sentence\n",
        "test_sentence = \"Hava bugün güzel\"\n",
        "tags = hmm_tagger.tag(test_sentence.split())\n",
        "tags"
      ],
      "metadata": {
        "colab": {
          "base_uri": "https://localhost:8080/"
        },
        "id": "2PVy4gbmLfUo",
        "outputId": "851b3944-363a-44ce-d13a-fead2bd933d5"
      },
      "execution_count": null,
      "outputs": [
        {
          "output_type": "stream",
          "name": "stderr",
          "text": [
            "/usr/local/lib/python3.11/dist-packages/nltk/tag/hmm.py:333: RuntimeWarning: overflow encountered in cast\n",
            "  X[i, j] = self._transitions[si].logprob(self._states[j])\n",
            "/usr/local/lib/python3.11/dist-packages/nltk/tag/hmm.py:335: RuntimeWarning: overflow encountered in cast\n",
            "  O[i, k] = self._output_logprob(si, self._symbols[k])\n",
            "/usr/local/lib/python3.11/dist-packages/nltk/tag/hmm.py:331: RuntimeWarning: overflow encountered in cast\n",
            "  P[i] = self._priors.logprob(si)\n",
            "/usr/local/lib/python3.11/dist-packages/nltk/tag/hmm.py:363: RuntimeWarning: overflow encountered in cast\n",
            "  O[i, k] = self._output_logprob(si, self._symbols[k])\n"
          ]
        },
        {
          "output_type": "execute_result",
          "data": {
            "text/plain": [
              "[('Hava', 'NN'), ('bugün', 'NN'), ('güzel', 'NN')]"
            ]
          },
          "metadata": {},
          "execution_count": 13
        }
      ]
    },
    {
      "cell_type": "code",
      "source": [],
      "metadata": {
        "id": "29EnVnTTL-dK"
      },
      "execution_count": null,
      "outputs": []
    }
  ]
}