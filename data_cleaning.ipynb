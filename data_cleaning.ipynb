{
  "nbformat": 4,
  "nbformat_minor": 0,
  "metadata": {
    "colab": {
      "provenance": []
    },
    "kernelspec": {
      "name": "python3",
      "display_name": "Python 3"
    },
    "language_info": {
      "name": "python"
    }
  },
  "cells": [
    {
      "cell_type": "markdown",
      "source": [
        "1️⃣**Normalize spaces**"
      ],
      "metadata": {
        "id": "AT6VsYgltduc"
      }
    },
    {
      "cell_type": "code",
      "execution_count": 11,
      "metadata": {
        "id": "COJhbteBW1eO"
      },
      "outputs": [],
      "source": [
        "text = \"hello     world,    this   is a    test\""
      ]
    },
    {
      "cell_type": "code",
      "source": [
        "text.split()"
      ],
      "metadata": {
        "colab": {
          "base_uri": "https://localhost:8080/"
        },
        "id": "x8pxc0ItXMkY",
        "outputId": "26b22cc9-7728-466d-c8b0-43e886e033ae"
      },
      "execution_count": 12,
      "outputs": [
        {
          "output_type": "execute_result",
          "data": {
            "text/plain": [
              "['hello', 'world,', 'this', 'is', 'a', 'test']"
            ]
          },
          "metadata": {},
          "execution_count": 12
        }
      ]
    },
    {
      "cell_type": "code",
      "source": [
        "cleaned_text = \" \".join(text.split())\n",
        "cleaned_text"
      ],
      "metadata": {
        "colab": {
          "base_uri": "https://localhost:8080/",
          "height": 35
        },
        "id": "dEezK9GBXTbI",
        "outputId": "fe09280c-8807-4e19-b874-af54394b6899"
      },
      "execution_count": 13,
      "outputs": [
        {
          "output_type": "execute_result",
          "data": {
            "text/plain": [
              "'hello world, this is a test'"
            ],
            "application/vnd.google.colaboratory.intrinsic+json": {
              "type": "string"
            }
          },
          "metadata": {},
          "execution_count": 13
        }
      ]
    },
    {
      "cell_type": "code",
      "source": [
        "print(f\"text: {text}\")\n",
        "print(f\"cleaned_text: {cleaned_text}\")"
      ],
      "metadata": {
        "colab": {
          "base_uri": "https://localhost:8080/"
        },
        "id": "RDs1Jv3dXnXp",
        "outputId": "a0078458-2c37-47e2-9f9b-26c3c1cd105e"
      },
      "execution_count": 14,
      "outputs": [
        {
          "output_type": "stream",
          "name": "stdout",
          "text": [
            "text: hello     world,    this   is a    test\n",
            "cleaned_text: hello world, this is a test\n"
          ]
        }
      ]
    },
    {
      "cell_type": "markdown",
      "source": [
        "2️⃣**Adjusting lowecase-uppercase**"
      ],
      "metadata": {
        "id": "I9oebz-zYqmW"
      }
    },
    {
      "cell_type": "code",
      "source": [
        "text = \"Hello WORLD, ThIS is A tEsT\"\n",
        "cleaned_text = text.lower()\n",
        "print(f\"cleaned_text: {cleaned_text}\")"
      ],
      "metadata": {
        "colab": {
          "base_uri": "https://localhost:8080/"
        },
        "id": "NDRW43jcX-6o",
        "outputId": "56ec60dd-d777-4037-cf64-153b4e0e5c97"
      },
      "execution_count": 15,
      "outputs": [
        {
          "output_type": "stream",
          "name": "stdout",
          "text": [
            "cleaned_text: hello world, this is a test\n"
          ]
        }
      ]
    },
    {
      "cell_type": "code",
      "source": [
        "text = \"Hello WORLD, ThIS is A tEsT\"\n",
        "cleaned_text = text.upper()\n",
        "print(f\"cleaned_text: {cleaned_text}\")"
      ],
      "metadata": {
        "colab": {
          "base_uri": "https://localhost:8080/"
        },
        "id": "RWcAVkjwuZRF",
        "outputId": "da1945cd-ccc2-4983-8e39-95fecce404e9"
      },
      "execution_count": 37,
      "outputs": [
        {
          "output_type": "stream",
          "name": "stdout",
          "text": [
            "cleaned_text: HELLO WORLD, THIS IS A TEST\n"
          ]
        }
      ]
    },
    {
      "cell_type": "markdown",
      "source": [
        "3️⃣**Punctuation marks**"
      ],
      "metadata": {
        "id": "nbfUf8SaaJHq"
      }
    },
    {
      "cell_type": "code",
      "source": [
        "import string # tüm noktalama işaretlerini barındırır"
      ],
      "metadata": {
        "id": "4RSjl4oGZxnf"
      },
      "execution_count": 16,
      "outputs": []
    },
    {
      "cell_type": "code",
      "source": [
        "text = \"hello world,,!! this is a test !\"\n",
        "\n",
        "# hiçbir karakteri başka karakterle değiştirmeden noktalama işaretlerini kaldırır : \"\",\"\""
      ],
      "metadata": {
        "id": "R3FH9bn2afwj"
      },
      "execution_count": 18,
      "outputs": []
    },
    {
      "cell_type": "code",
      "source": [
        "cleaned_text = text.translate(str.maketrans(\"\", \"\", string.punctuation))\n",
        "print(f\"cleaned_text: {cleaned_text}\")"
      ],
      "metadata": {
        "colab": {
          "base_uri": "https://localhost:8080/"
        },
        "id": "6ctdihMda9Vm",
        "outputId": "616655c1-c725-453e-8985-cc63cdbe7df3"
      },
      "execution_count": 21,
      "outputs": [
        {
          "output_type": "stream",
          "name": "stdout",
          "text": [
            "cleaned_text: hello world this is a test \n"
          ]
        }
      ]
    },
    {
      "cell_type": "markdown",
      "source": [
        "4️⃣ **Removing special character**\n",
        "\n",
        "**re Modülünün Kullanım Alanları**\n",
        "\n",
        "1- Metin İçinde Desen Arama\n",
        "Belirli bir desen (örneğin, bir kelime veya sayı) metinde var mı diye kontrol edebiliriz.\n",
        "\n",
        "2- Desene Göre Yer Değiştirme (Replace)\n",
        "Metin içinde belirli bir deseni başka bir şeyle değiştirebiliriz.\n",
        "\n",
        "3- Desene Göre Bölme (Split)\n",
        "Metni belirli bir desene göre bölebiliriz.\n",
        "\n",
        "4- Desenle Eşleşen Veriyi Çekme (Match)\n",
        "Metin içindeki desenle eşleşen kısımları alabiliriz."
      ],
      "metadata": {
        "id": "6YAFaZMvfsAl"
      }
    },
    {
      "cell_type": "code",
      "source": [
        "# regular expressions (re) modülü: metin arama, eşleştirme ve manipülasyon işlemleri\n",
        "import re"
      ],
      "metadata": {
        "id": "enkPvc9qbnSo"
      },
      "execution_count": 22,
      "outputs": []
    },
    {
      "cell_type": "code",
      "source": [
        "text = \"% @hello world,,!! this is a test # \"\n",
        "cleaned_text = re.sub(r\"[^A-Za-z0-9\\s]\", \"\", text)   # subtract\n",
        "print(f\"cleaned_text:{cleaned_text}\")"
      ],
      "metadata": {
        "colab": {
          "base_uri": "https://localhost:8080/"
        },
        "id": "CDE0d6FTgXIw",
        "outputId": "443b7bb7-5892-48dd-8920-23b07e2f9356"
      },
      "execution_count": 25,
      "outputs": [
        {
          "output_type": "stream",
          "name": "stdout",
          "text": [
            "cleaned_text: hello world this is a test  \n"
          ]
        }
      ]
    },
    {
      "cell_type": "code",
      "source": [
        "# Metin İçinde Desen Arama\n",
        "text = \"hello world this is a test\"\n",
        "result = re.search(r\"world\", text)\n",
        "if result:\n",
        "    print(f\"{result} is exist\")\n",
        "else:\n",
        "    print(f\"{result} is not exist\")"
      ],
      "metadata": {
        "colab": {
          "base_uri": "https://localhost:8080/"
        },
        "id": "zAfeMlAWups8",
        "outputId": "4881114a-ff4f-49e9-9840-4bf1901099cb"
      },
      "execution_count": 39,
      "outputs": [
        {
          "output_type": "stream",
          "name": "stdout",
          "text": [
            "<re.Match object; span=(6, 11), match='world'> is exist\n"
          ]
        }
      ]
    },
    {
      "cell_type": "code",
      "source": [
        "# yer Değiştirme (re.sub())\n",
        "text = \"hello world this is a test\"\n",
        "cleaned_text = re.sub(r\"world\", \"planet\", text)\n",
        "print(f\"cleaned_text: {cleaned_text}\")"
      ],
      "metadata": {
        "colab": {
          "base_uri": "https://localhost:8080/"
        },
        "id": "DzNqxX_CvQ0G",
        "outputId": "14c1b552-7b65-4f5d-9325-828887723a0e"
      },
      "execution_count": 40,
      "outputs": [
        {
          "output_type": "stream",
          "name": "stdout",
          "text": [
            "cleaned_text: hello planet this is a test\n"
          ]
        }
      ]
    },
    {
      "cell_type": "code",
      "source": [
        "# [\\s,!?] deseni, metindeki boşlukları, virgülleri, ünlem işaretlerini ve soru işaretlerini bölme işlemi yapar.\n",
        "text = \"Merhaba, dünya! Nasılsın? Bu, bir test.\"\n",
        "result = re.split(r'[\\s,!?]', text)\n",
        "print(result)"
      ],
      "metadata": {
        "colab": {
          "base_uri": "https://localhost:8080/"
        },
        "id": "LVE2Hzb0xHcb",
        "outputId": "05ec77bd-06c6-4d6c-9b9c-fed81f01ddaf"
      },
      "execution_count": 44,
      "outputs": [
        {
          "output_type": "stream",
          "name": "stdout",
          "text": [
            "['Merhaba', '', 'dünya', '', 'Nasılsın', '', 'Bu', '', 'bir', 'test.']\n"
          ]
        }
      ]
    },
    {
      "cell_type": "markdown",
      "source": [
        "5️⃣ **Correcting typos**"
      ],
      "metadata": {
        "id": "kL1AAvaZiD7A"
      }
    },
    {
      "cell_type": "code",
      "source": [
        "# doğal dil işleme işlemleri yapmak için (metin analizi) kullanılan bir Python kütüphanesidir.\n",
        "# Dil Algılama,Duygu Analizi,Translation,Dilbilgisi ve Yazım Hatalarını Düzeltme,Word and Sentence Tokenization\n",
        "from textblob import TextBlob"
      ],
      "metadata": {
        "id": "rdc-NX7hhkfu"
      },
      "execution_count": 30,
      "outputs": []
    },
    {
      "cell_type": "code",
      "source": [
        "text = \"I havv goood speling\"\n",
        "cleaned_text = TextBlob(text).correct()\n",
        "print(f\"cleaned_text: {cleaned_text}\")"
      ],
      "metadata": {
        "colab": {
          "base_uri": "https://localhost:8080/"
        },
        "id": "SLprHfQxqmRa",
        "outputId": "c0fa0632-0db5-46f6-c2be-2b2745d2b081"
      },
      "execution_count": 33,
      "outputs": [
        {
          "output_type": "stream",
          "name": "stdout",
          "text": [
            "cleaned_text: I have good spelling\n"
          ]
        }
      ]
    },
    {
      "cell_type": "markdown",
      "source": [
        "6️⃣**Removing html and url tags**"
      ],
      "metadata": {
        "id": "qu14qZBxryua"
      }
    },
    {
      "cell_type": "code",
      "source": [
        "''' BeautifulSoup: HTML ve XML belgelerini parçalamak (parse etmek) ve işlemek için kullanılan bir Python kütüphanesidir.\n",
        "    Özellikle web kazıma (web scraping) işlemleri için çok popülerdir.'''\n",
        "\n",
        "from bs4 import BeautifulSoup"
      ],
      "metadata": {
        "id": "O8LBtIsJrKJ2"
      },
      "execution_count": 35,
      "outputs": []
    },
    {
      "cell_type": "code",
      "source": [
        "# BeautifulSoup ile html yapısını parse et, get_text ile text kısmını çekme\n",
        "text = \"<head><title>Test Sayfası</title></head>\"\n",
        "cleaned_text = BeautifulSoup(text, \"html.parser\").get_text()\n",
        "print(f\"cleaned_text: {cleaned_text}\")"
      ],
      "metadata": {
        "colab": {
          "base_uri": "https://localhost:8080/"
        },
        "id": "ZPIXUeXUr85v",
        "outputId": "6622457f-47da-4164-85dd-b15459d54aff"
      },
      "execution_count": 36,
      "outputs": [
        {
          "output_type": "stream",
          "name": "stdout",
          "text": [
            "cleaned_text: Test Sayfası\n"
          ]
        }
      ]
    },
    {
      "cell_type": "code",
      "source": [],
      "metadata": {
        "id": "wJdGHOarssYY"
      },
      "execution_count": null,
      "outputs": []
    }
  ]
}